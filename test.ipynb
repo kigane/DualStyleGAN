{
 "cells": [
  {
   "cell_type": "code",
   "execution_count": null,
   "metadata": {},
   "outputs": [],
   "source": [
    "import torch\n",
    "import torch.nn as nn\n",
    "import random\n",
    "from model.stylegan.model import Generator, Discriminator\n",
    "from model.stylegan.dataset import MultiResolutionDataset\n",
    "from torchvision import transforms, utils\n",
    "import matplotlib.pyplot as plt\n",
    "from model.stylegan import lpips"
   ]
  },
  {
   "cell_type": "code",
   "execution_count": null,
   "metadata": {},
   "outputs": [],
   "source": [
    "device = 'cuda' if torch.cuda.is_available() else 'cpu'\n",
    "device"
   ]
  },
  {
   "cell_type": "code",
   "execution_count": null,
   "metadata": {},
   "outputs": [],
   "source": [
    "def make_noise(batch, latent_dim, n_noise, device):\n",
    "    if n_noise == 1:\n",
    "        return torch.randn(batch, latent_dim, device=device)\n",
    "\n",
    "    noises = torch.randn(n_noise, batch, latent_dim, device=device).unbind(0)\n",
    "\n",
    "    return noises\n",
    "\n",
    "\n",
    "def mixing_noise(batch, latent_dim, prob, device):\n",
    "    \"\"\"有prob的概率产生两个噪音张量元组，1-prob的概率产生单个噪音张量\"\"\"\n",
    "    if prob > 0 and random.random() < prob:\n",
    "        return make_noise(batch, latent_dim, 2, device)\n",
    "    else:\n",
    "        return [make_noise(batch, latent_dim, 1, device)]"
   ]
  },
  {
   "cell_type": "code",
   "execution_count": null,
   "metadata": {},
   "outputs": [],
   "source": [
    "generator = Generator(\n",
    "    1024, 512, 8, channel_multiplier=2\n",
    ").to(device)\n",
    "ckpt = torch.load('./checkpoint/stylegan2-ffhq-config-f.pt', map_location=lambda storage, loc: storage)\n",
    "generator.load_state_dict(ckpt['g_ema'])\n",
    "print(ckpt.keys())\n",
    "# transform = transforms.Compose(\n",
    "#     [\n",
    "#         transforms.RandomHorizontalFlip(),\n",
    "#         transforms.ToTensor(),\n",
    "#         transforms.Normalize(\n",
    "#             (0.5, 0.5, 0.5), (0.5, 0.5, 0.5), inplace=True),\n",
    "#     ]\n",
    "# )\n",
    "# dataset = MultiResolutionDataset('./data/cartoon/lmdb/', transform, 1024)"
   ]
  },
  {
   "cell_type": "code",
   "execution_count": null,
   "metadata": {},
   "outputs": [],
   "source": [
    "def show_tensor_images(image_tensor, num_images=25, size=(1, 28, 28), nrow=5):\n",
    "    '''\n",
    "    将输入的图片张量合并显示。\n",
    "    image_tensor: (N, *size)\n",
    "    '''\n",
    "    image_unflat = image_tensor.detach().cpu().view(-1, *size)\n",
    "    # make_grid接受的图像如果是单通道，则会将该通道复制两份形成三通道的黑白图像。\n",
    "    image_grid = utils.make_grid(image_unflat[:num_images], nrow)\n",
    "    data = image_grid.permute(1, 2, 0).squeeze()\n",
    "    plt.figure(figsize=(12, 12))\n",
    "    plt.imshow(data)\n",
    "    plt.axis('off')\n",
    "    plt.show()"
   ]
  },
  {
   "cell_type": "code",
   "execution_count": null,
   "metadata": {},
   "outputs": [],
   "source": [
    "fake_imgs = []\n",
    "num = 16\n",
    "\n",
    "for i in range(num):\n",
    "    noise = mixing_noise(1, 512, 0.5, device)\n",
    "    fake_img, _ = generator(noise)\n",
    "    fake_img = (fake_img + 1) / 2\n",
    "    fake_imgs.append(fake_img.detach().cpu())\n",
    "\n",
    "show_tensor_images(torch.stack(fake_imgs), 16, nrow=4, size=fake_imgs[0].shape[1:])"
   ]
  },
  {
   "cell_type": "code",
   "execution_count": null,
   "metadata": {},
   "outputs": [],
   "source": [
    "percept = lpips.PerceptualLoss(\n",
    "    model=\"net-lin\", net=\"vgg\", use_gpu=device.startswith(\"cuda\"))\n"
   ]
  }
 ],
 "metadata": {
  "interpreter": {
   "hash": "4865490da6699370054a893614d25bfe7019e07f85c7b294178de45e1c56cb00"
  },
  "kernelspec": {
   "display_name": "Python 3.9.7 64-bit",
   "language": "python",
   "name": "python3"
  },
  "language_info": {
   "codemirror_mode": {
    "name": "ipython",
    "version": 3
   },
   "file_extension": ".py",
   "mimetype": "text/x-python",
   "name": "python",
   "nbconvert_exporter": "python",
   "pygments_lexer": "ipython3",
   "version": "3.9.7"
  },
  "orig_nbformat": 4
 },
 "nbformat": 4,
 "nbformat_minor": 2
}
