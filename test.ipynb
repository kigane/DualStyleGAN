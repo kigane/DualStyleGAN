{
 "cells": [
  {
   "cell_type": "code",
   "execution_count": 9,
   "metadata": {},
   "outputs": [],
   "source": [
    "import torch\n",
    "import torch.nn as nn\n",
    "import random"
   ]
  },
  {
   "cell_type": "code",
   "execution_count": 10,
   "metadata": {},
   "outputs": [],
   "source": [
    "def make_noise(batch, latent_dim, n_noise, device):\n",
    "    if n_noise == 1:\n",
    "        return torch.randn(batch, latent_dim, device=device)\n",
    "\n",
    "    noises = torch.randn(n_noise, batch, latent_dim, device=device).unbind(0)\n",
    "\n",
    "    return noises\n",
    "\n",
    "\n",
    "def mixing_noise(batch, latent_dim, prob, device):\n",
    "    \"\"\"有prob的概率产生两个噪音张量元组，1-prob的概率产生单个噪音张量\"\"\"\n",
    "    if prob > 0 and random.random() < prob:\n",
    "        return make_noise(batch, latent_dim, 2, device)\n",
    "\n",
    "    else:\n",
    "        return [make_noise(batch, latent_dim, 1, device)]"
   ]
  },
  {
   "cell_type": "code",
   "execution_count": 7,
   "metadata": {},
   "outputs": [
    {
     "data": {
      "text/plain": [
       "tuple"
      ]
     },
     "execution_count": 7,
     "metadata": {},
     "output_type": "execute_result"
    }
   ],
   "source": [
    "type(make_noise(4, 12, 2, 'cpu'))"
   ]
  },
  {
   "cell_type": "code",
   "execution_count": 8,
   "metadata": {},
   "outputs": [
    {
     "data": {
      "text/plain": [
       "torch.Tensor"
      ]
     },
     "execution_count": 8,
     "metadata": {},
     "output_type": "execute_result"
    }
   ],
   "source": [
    "type(make_noise(4, 12, 1, 'cpu'))"
   ]
  },
  {
   "cell_type": "code",
   "execution_count": 18,
   "metadata": {},
   "outputs": [
    {
     "data": {
      "text/plain": [
       "[tensor([[ 0.6824,  0.5227, -0.8227,  0.1259, -0.2245, -0.3000, -0.9665, -0.7178,\n",
       "           0.7661, -0.9234,  1.9271, -1.6021],\n",
       "         [-0.4725,  0.1024, -1.5735,  0.1093,  0.5130, -0.0407,  0.4853, -0.0145,\n",
       "           0.4717,  0.9101,  0.2909,  0.1696],\n",
       "         [ 0.7514,  0.4667, -1.4836, -0.7291, -1.0503, -1.4260,  0.6439, -0.5074,\n",
       "           0.4496, -0.2059, -1.4044, -2.2906],\n",
       "         [ 1.9708, -0.3942,  0.1509,  0.9212,  0.3539,  0.5483, -0.4377, -0.3167,\n",
       "           0.0702,  0.1179,  0.3041, -1.8386]])]"
      ]
     },
     "execution_count": 18,
     "metadata": {},
     "output_type": "execute_result"
    }
   ],
   "source": [
    "mixing_noise(4, 12, 0.3, 'cpu')"
   ]
  }
 ],
 "metadata": {
  "interpreter": {
   "hash": "448c60747e7ce04bfef225ceb0b037f93919a769940cfe3c5278db7a5ae07e34"
  },
  "kernelspec": {
   "display_name": "Python 3.9.12 64-bit",
   "language": "python",
   "name": "python3"
  },
  "language_info": {
   "codemirror_mode": {
    "name": "ipython",
    "version": 3
   },
   "file_extension": ".py",
   "mimetype": "text/x-python",
   "name": "python",
   "nbconvert_exporter": "python",
   "pygments_lexer": "ipython3",
   "version": "3.9.12"
  },
  "orig_nbformat": 4
 },
 "nbformat": 4,
 "nbformat_minor": 2
}
