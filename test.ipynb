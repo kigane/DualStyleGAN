{
 "cells": [
  {
   "cell_type": "code",
   "execution_count": null,
   "metadata": {},
   "outputs": [],
   "source": [
    "import torch\n",
    "import torch.nn as nn\n",
    "import random\n",
    "from model.stylegan.model import Generator, Discriminator\n",
    "from model.stylegan.dataset import MultiResolutionDataset\n",
    "from torchvision import transforms, utils\n",
    "import matplotlib.pyplot as plt"
   ]
  },
  {
   "cell_type": "code",
   "execution_count": null,
   "metadata": {},
   "outputs": [],
   "source": [
    "def make_noise(batch, latent_dim, n_noise, device):\n",
    "    if n_noise == 1:\n",
    "        return torch.randn(batch, latent_dim, device=device)\n",
    "\n",
    "    noises = torch.randn(n_noise, batch, latent_dim, device=device).unbind(0)\n",
    "\n",
    "    return noises\n",
    "\n",
    "\n",
    "def mixing_noise(batch, latent_dim, prob, device):\n",
    "    \"\"\"有prob的概率产生两个噪音张量元组，1-prob的概率产生单个噪音张量\"\"\"\n",
    "    if prob > 0 and random.random() < prob:\n",
    "        return make_noise(batch, latent_dim, 2, device)\n",
    "\n",
    "    else:\n",
    "        return [make_noise(batch, latent_dim, 1, device)]"
   ]
  },
  {
   "cell_type": "code",
   "execution_count": null,
   "metadata": {},
   "outputs": [],
   "source": [
    "type(make_noise(4, 12, 2, 'cpu'))"
   ]
  },
  {
   "cell_type": "code",
   "execution_count": null,
   "metadata": {},
   "outputs": [],
   "source": [
    "type(make_noise(4, 12, 1, 'cpu'))"
   ]
  },
  {
   "cell_type": "code",
   "execution_count": null,
   "metadata": {},
   "outputs": [],
   "source": [
    "mixing_noise(4, 12, 0.3, 'cpu')"
   ]
  },
  {
   "cell_type": "code",
   "execution_count": null,
   "metadata": {},
   "outputs": [],
   "source": [
    "generator = Generator(\n",
    "    1024, 512, 8, channel_multiplier=2\n",
    ").to('cpu')\n",
    "ckpt = torch.load('./checkpoint/stylegan2-ffhq-config-f.pt', map_location=lambda storage, loc: storage)\n",
    "generator.load_state_dict(ckpt['g'])\n",
    "# transform = transforms.Compose(\n",
    "#     [\n",
    "#         transforms.RandomHorizontalFlip(),\n",
    "#         transforms.ToTensor(),\n",
    "#         transforms.Normalize(\n",
    "#             (0.5, 0.5, 0.5), (0.5, 0.5, 0.5), inplace=True),\n",
    "#     ]\n",
    "# )\n",
    "# dataset = MultiResolutionDataset('./data/cartoon/lmdb/', transform, 1024)"
   ]
  },
  {
   "cell_type": "code",
   "execution_count": null,
   "metadata": {},
   "outputs": [],
   "source": [
    "noise = mixing_noise(1, 512, 0.9, 'cpu')\n",
    "fake_img, _ = generator(noise)\n",
    "plt.imshow(fake_img)\n",
    "plt.show()"
   ]
  }
 ],
 "metadata": {
  "interpreter": {
   "hash": "448c60747e7ce04bfef225ceb0b037f93919a769940cfe3c5278db7a5ae07e34"
  },
  "kernelspec": {
   "display_name": "Python 3.9.12 64-bit",
   "language": "python",
   "name": "python3"
  },
  "language_info": {
   "codemirror_mode": {
    "name": "ipython",
    "version": 3
   },
   "file_extension": ".py",
   "mimetype": "text/x-python",
   "name": "python",
   "nbconvert_exporter": "python",
   "pygments_lexer": "ipython3",
   "version": "3.9.12"
  },
  "orig_nbformat": 4
 },
 "nbformat": 4,
 "nbformat_minor": 2
}
